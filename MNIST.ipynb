{
 "cells": [
  {
   "cell_type": "code",
   "execution_count": 1,
   "metadata": {},
   "outputs": [],
   "source": [
    "import numpy as np\n",
    "import time\n",
    "import matplotlib.pyplot\n",
    "%matplotlib inline"
   ]
  },
  {
   "cell_type": "code",
   "execution_count": 2,
   "metadata": {},
   "outputs": [],
   "source": [
    "mnist_train_x = \"D:/ML/NN/MNIST-Neural-Network-Implementation/t10k-images-idx3-ubyte\"\n",
    "mnist_train_y = \"D:/ML/NN/MNIST-Neural-Network-Implementation/t10k-labels-idx1-ubyte\"\n",
    "mnist_test_x = \"D:/ML/NN/MNIST-Neural-Network-Implementation/train-images-idx3-ubyte\"\n",
    "mnist_test_y = \"D:/ML/NN/MNIST-Neural-Network-Implementation/train-labels-idx1-ubyte\"\n"
   ]
  },
  {
   "cell_type": "code",
   "execution_count": 3,
   "metadata": {},
   "outputs": [],
   "source": [
    "def convert(imgs, labels, outs, n):\n",
    "    with open(imgs,\"rb\") as imgf, open(labels,\"rb\") as labelf, open(outs,\"w\") as csvf:\n",
    "        imgf.read(16)\n",
    "        labelf.read(8)\n",
    "        \n",
    "        images = []\n",
    "        \n",
    "        for i in range(n):\n",
    "            label_byte = labelf.read(1)\n",
    "            label = ord(label_byte)\n",
    "            image = [label]\n",
    "            \n",
    "            for j in range(28*28):\n",
    "                img_byte = imgf.read(1)\n",
    "                pixel = ord(img_byte)\n",
    "                image.append(pixel)\n",
    "            images.append(image)\n",
    "    \n",
    "        for image in images:\n",
    "            csvf.write(\",\".join(map(str, image)) + \"\\n\")"
   ]
  },
  {
   "cell_type": "code",
   "execution_count": 4,
   "metadata": {},
   "outputs": [],
   "source": [
    "convert(mnist_test_x,mnist_test_y,\"D:/ML/NN/MNIST-Neural-Network-Implementation/train.csv\",60000)\n",
    "convert(mnist_train_x,mnist_train_y,\"D:/ML/NN/MNIST-Neural-Network-Implementation/test.csv\",10000)"
   ]
  },
  {
   "cell_type": "code",
   "execution_count": 5,
   "metadata": {},
   "outputs": [
    {
     "name": "stdout",
     "output_type": "stream",
     "text": [
      "60000\n"
     ]
    },
    {
     "data": {
      "text/plain": [
       "'2,0,0,0,0,0,1,0,0,0,0,3,168,181,156,162,218,86,0,0,0,0,0,0,0,0,1,0,0,0,0,0,0,0,0,2,15,36,47,49,82,149,183,173,167,40,47,43,25,2,0,0,0,0,0,0,0,0,0,0,0,0,36,54,60,48,43,37,20,7,23,12,1,31,43,46,57,68,49,1,0,0,0,0,0,0,0,0,1,54,53,41,47,42,43,50,46,46,36,38,43,45,48,42,47,50,59,56,2,0,0,0,0,0,0,0,26,69,38,56,51,45,46,47,43,43,46,45,43,42,42,41,50,43,32,53,37,0,0,0,0,0,0,0,52,94,61,50,52,46,46,49,46,46,46,43,43,41,46,43,45,39,49,69,60,0,0,0,0,0,0,0,67,72,131,65,57,49,48,48,45,46,47,47,46,46,43,41,45,47,80,90,62,3,0,0,0,0,0,0,76,54,115,132,65,50,48,52,49,47,50,49,47,46,43,45,53,57,91,67,72,9,0,0,0,0,0,2,75,72,68,172,81,62,62,69,67,62,56,56,57,51,52,47,50,64,82,70,81,13,0,0,0,0,0,8,79,74,64,149,111,53,65,69,69,69,59,61,69,63,67,48,39,98,71,71,86,24,0,0,0,0,0,14,80,67,70,148,127,48,63,67,67,61,60,59,63,65,69,43,38,104,78,72,84,30,0,0,0,0,0,17,83,72,80,158,150,40,65,68,65,62,63,62,60,65,72,47,37,78,83,79,82,36,0,0,0,0,0,20,85,76,100,153,137,53,68,67,63,69,64,63,67,60,72,61,34,73,89,79,85,36,0,0,0,0,0,25,86,67,109,142,91,69,74,72,68,67,63,62,64,69,80,67,38,54,108,82,91,41,0,0,0,0,0,35,87,62,126,107,68,73,68,70,68,64,63,61,63,43,61,69,49,19,111,94,85,53,0,0,0,0,0,41,86,62,147,71,60,76,67,70,70,68,67,70,32,131,94,47,48,8,102,105,72,58,0,0,0,0,0,48,84,72,150,4,71,79,71,72,68,70,69,76,19,170,172,46,60,0,94,129,74,59,0,0,0,0,0,53,79,87,134,0,87,73,73,72,69,70,73,73,37,69,201,57,54,0,65,142,76,69,0,0,0,0,0,60,78,105,101,0,100,73,76,74,71,73,72,74,61,16,207,129,59,9,34,145,79,73,4,0,0,0,0,63,76,118,50,0,105,72,73,74,70,73,78,84,79,5,176,157,50,12,0,140,82,71,7,0,0,0,0,69,74,124,25,0,108,71,76,74,74,81,79,71,81,16,130,200,14,28,0,137,93,71,20,0,0,0,0,72,80,126,13,0,111,74,74,76,79,80,74,73,76,56,54,254,32,32,0,129,100,71,36,0,0,0,0,78,84,127,2,0,113,82,80,82,83,85,81,86,90,74,56,60,58,32,0,98,114,68,43,0,0,0,0,76,86,127,0,0,102,74,81,78,78,86,85,83,90,79,79,62,64,45,0,81,131,70,42,0,0,0,0,78,92,119,0,0,103,100,91,85,75,76,87,90,87,90,86,74,78,21,0,64,130,65,50,0,0,0,0,86,90,115,0,0,103,154,113,137,130,125,120,120,125,130,125,119,101,0,0,38,154,69,75,0,0,0,0,94,134,104,0,0,5,38,51,60,67,69,71,70,67,67,63,43,31,0,0,0,152,115,67,0,0,0,0,64,138,74,0,0,0,0,0,0,0,0,0,0,0,0,0,0,0,0,0,0,122,115,32,0,0\\n'"
      ]
     },
     "execution_count": 5,
     "metadata": {},
     "output_type": "execute_result"
    }
   ],
   "source": [
    "train_file=open(\"D:/ML/NN/MNIST-Neural-Network-Implementation/train.csv\",\"r\")\n",
    "train_list=train_file.readlines()\n",
    "train_file.close()\n",
    "print(len(train_list))\n",
    "train_list[404]"
   ]
  },
  {
   "cell_type": "code",
   "execution_count": 6,
   "metadata": {},
   "outputs": [
    {
     "data": {
      "text/plain": [
       "<matplotlib.image.AxesImage at 0x206457cbf90>"
      ]
     },
     "execution_count": 6,
     "metadata": {},
     "output_type": "execute_result"
    },
    {
     "data": {
      "image/png": "[encoded data removed]",
      "text/plain": [
       "<Figure size 640x480 with 1 Axes>"
      ]
     },
     "metadata": {},
     "output_type": "display_data"
    }
   ],
   "source": [
    "all_values = train_list[197].split(',')\n",
    "image_array = np.asfarray(all_values[1:]).reshape((28,28))\n",
    "matplotlib.pyplot.imshow(image_array, cmap='Greys', interpolation='None')"
   ]
  },
  {
   "cell_type": "code",
   "execution_count": 9,
   "metadata": {},
   "outputs": [
    {
     "name": "stdout",
     "output_type": "stream",
     "text": [
      "10000\n"
     ]
    }
   ],
   "source": [
    "test_file=open(\"D:/ML/NN/MNIST-Neural-Network-Implementation/test.csv\",\"r\")\n",
    "test_list=test_file.readlines()\n",
    "test_file.close()\n",
    "print(len(test_list))"
   ]
  },
  {
   "cell_type": "code",
   "execution_count": 10,
   "metadata": {},
   "outputs": [],
   "source": [
    "class NeuralNetwork:\n",
    "    def __init__(self, model=[784, 128, 64, 10], epochs=15, learning_rate=0.1):\n",
    "        self.model = model\n",
    "        self.epochs = epochs\n",
    "        self.learning_rate = learning_rate\n",
    "        \n",
    "        input_layer = model[0]\n",
    "        hidden_1 = model[1]\n",
    "        hidden_2 = model[2]\n",
    "        output_layer = model[3]\n",
    "        \n",
    "        self.params = {\n",
    "            'w1': np.random.randn(hidden_1, input_layer) * np.sqrt(1. / hidden_1),\n",
    "            'w2': np.random.randn(hidden_2, hidden_1) * np.sqrt(1. / hidden_2),\n",
    "            'w3': np.random.randn(output_layer, hidden_2) * np.sqrt(1. / output_layer)\n",
    "        }\n",
    "    \n",
    "    def sigmoid(self, x, derivative=False):\n",
    "        if derivative:\n",
    "            return (np.exp(-x)) / ((np.exp(-x) + 1) ** 2)\n",
    "        return 1 / (1 + np.exp(-x))\n",
    "    \n",
    "    def softmax(self, x, derivative=False):\n",
    "        exps = np.exp(x - x.max())#potential overflow reduces\n",
    "        if derivative:\n",
    "            return exps / np.sum(exps, axis=0) * (1 - exps / np.sum(exps, axis=0))\n",
    "        return exps / np.sum(exps, axis=0)\n",
    "    \n",
    "    def forward_prop(self, x_train):\n",
    "        params = self.params\n",
    "        params['A0'] = x_train\n",
    "        \n",
    "        params['Z1'] = np.dot(params['w1'], params['A0'])# x*w +b\n",
    "        params['A1'] = self.sigmoid(params['Z1']) #activation function ulla anupividum\n",
    "        \n",
    "        params['Z2'] = np.dot(params['w2'], params['A1']) #output of first activation function * w +b\n",
    "        params['A2'] = self.sigmoid(params['Z2']) #activation function \n",
    "        \n",
    "        params['Z3'] = np.dot(params['w3'], params['A2'])#output of second activation function * w +b\n",
    "        params['A3'] = self.softmax(params['Z3']) #output layer - calculated value\n",
    "        \n",
    "        return params['A3'] \n",
    "        \n",
    "    def backward_prop(self, y_train, output):\n",
    "        params = self.params\n",
    "        change_w = {}\n",
    "        \n",
    "        error = 2 * (output - y_train) / output.shape[0] * self.softmax(params['Z3'], derivative=True)\n",
    "        change_w['w3'] = np.outer(error, params['A2'])\n",
    "        \n",
    "        error = np.dot(params['w3'].T, error) * self.sigmoid(params['Z2'], derivative=True)\n",
    "        change_w['w2'] = np.outer(error, params['A1'])\n",
    "        \n",
    "        error = np.dot(params['w2'].T, error) * self.sigmoid(params['Z1'], derivative=True)\n",
    "        change_w['w1'] = np.outer(error, params['A0'])\n",
    "        \n",
    "        return change_w\n",
    "    \n",
    "    def update_weights(self, change_w):\n",
    "        for key, val in change_w.items():\n",
    "            self.params[key] -= self.learning_rate * val\n",
    "            \n",
    "    def accuracy(self, test_data):\n",
    "        predictions = []\n",
    "        for x in test_data:\n",
    "            values = x.split(\",\")\n",
    "            inputs = (np.asfarray(values[1:]) / 255.0 * 0.99) + 0.01\n",
    "            targets = np.zeros(10) + 0.01\n",
    "            targets[int(values[0])] = 0.99\n",
    "            output = self.forward_prop(inputs)\n",
    "            pred = np.argmax(output)\n",
    "            predictions.append(pred == np.argmax(targets))\n",
    "            \n",
    "        return np.mean(predictions)\n",
    "    \n",
    "    def train(self, train_list, test_list):\n",
    "        start_time = time.time()\n",
    "        for i in range(self.epochs):\n",
    "            for x in train_list:\n",
    "                values = x.split(\",\")\n",
    "                inputs = (np.asfarray(values[1:]) / 255.0 * 0.99) + 0.01\n",
    "                targets = np.zeros(10) + 0.01\n",
    "                targets[int(values[0])] = 0.99\n",
    "                \n",
    "                output = self.forward_prop(inputs)\n",
    "                change_w = self.backward_prop(targets, output)\n",
    "                self.update_weights(change_w)\n",
    "                \n",
    "            accuracy = self.accuracy(test_list)\n",
    "            print('Epoch : {0}, Time Spent : {1:.02f}s, Accuracy : {2:.2f}%'.format(i + 1, time.time() - start_time, accuracy * 100))"
   ]
  },
  {
   "cell_type": "code",
   "execution_count": 12,
   "metadata": {},
   "outputs": [
    {
     "name": "stdout",
     "output_type": "stream",
     "text": [
      "Epoch : 1, Time Spent : 97.08s, Accuracy : 76.78%\n",
      "Epoch : 2, Time Spent : 191.67s, Accuracy : 81.29%\n",
      "Epoch : 3, Time Spent : 289.75s, Accuracy : 81.97%\n",
      "Epoch : 4, Time Spent : 476.94s, Accuracy : 82.61%\n",
      "Epoch : 5, Time Spent : 572.38s, Accuracy : 83.24%\n",
      "Epoch : 6, Time Spent : 666.36s, Accuracy : 83.70%\n",
      "Epoch : 7, Time Spent : 789.44s, Accuracy : 83.90%\n",
      "Epoch : 8, Time Spent : 912.54s, Accuracy : 84.04%\n",
      "Epoch : 9, Time Spent : 1009.80s, Accuracy : 84.38%\n",
      "Epoch : 10, Time Spent : 1111.10s, Accuracy : 84.51%\n",
      "Epoch : 11, Time Spent : 1210.74s, Accuracy : 84.50%\n",
      "Epoch : 12, Time Spent : 1311.71s, Accuracy : 84.76%\n",
      "Epoch : 13, Time Spent : 1427.74s, Accuracy : 85.15%\n",
      "Epoch : 14, Time Spent : 1540.02s, Accuracy : 85.36%\n",
      "Epoch : 15, Time Spent : 1659.03s, Accuracy : 85.63%\n"
     ]
    }
   ],
   "source": [
    "dnn=NeuralNetwork(model=[784, 128, 64, 10], epochs=15, learning_rate=0.1)\n",
    "dnn.train(train_list,test_list)"
   ]
  }
 ],
 "metadata": {
  "kernelspec": {
   "display_name": "base",
   "language": "python",
   "name": "python3"
  },
  "language_info": {
   "codemirror_mode": {
    "name": "ipython",
    "version": 3
   },
   "file_extension": ".py",
   "mimetype": "text/x-python",
   "name": "python",
   "nbconvert_exporter": "python",
   "pygments_lexer": "ipython3",
   "version": "3.11.7"
  }
 },
 "nbformat": 4,
 "nbformat_minor": 2
}
